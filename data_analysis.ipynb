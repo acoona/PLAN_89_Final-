{
 "cells": [
  {
   "cell_type": "markdown",
   "metadata": {},
   "source": [
    "# PLAN_89_FINAL_DATA_ANALYSIS"
   ]
  },
  {
   "cell_type": "markdown",
   "metadata": {},
   "source": [
    "## Please import all the packages needed :)"
   ]
  },
  {
   "cell_type": "code",
   "execution_count": 8,
   "metadata": {},
   "outputs": [],
   "source": [
    "import pandas as pd\n",
    "import matplotlib.pyplot as plt\n",
    "import scienceplots\n",
    "import numpy as np\n",
    "plt.style.use(['science', 'grid'])"
   ]
  },
  {
   "cell_type": "markdown",
   "metadata": {},
   "source": [
    "## Loading all the data into Proper Pandas Data Frames"
   ]
  },
  {
   "cell_type": "code",
   "execution_count": null,
   "metadata": {},
   "outputs": [],
   "source": [
    "drinking_data_path = \"./DrinkingData.xlsm\"\n",
    "boarding_data_path = \"./BoardingData.xlsm\"\n",
    "\n",
    "boarding_data = pd.ExcelFile(boarding_data_path)\n",
    "drinking_data = pd.ExcelFile(drinking_data_path)"
   ]
  },
  {
   "cell_type": "code",
   "execution_count": 70,
   "metadata": {},
   "outputs": [],
   "source": [
    "# We will now load the sheets into DF's\n",
    "boarding_df_raw = boarding_data.parse('survey_0')\n",
    "drinking_df_raw = drinking_data.parse('survey_0')\n",
    "\n",
    "# Change some of the names so we can avoid typing that much \n",
    "boarding_df = boarding_df_raw.rename(\n",
    "    columns={\n",
    "        \"How many individuals boarded?\": \"Boarded\", \n",
    "        \"How many individuals got off?\": \"Left\", \n",
    "    }\n",
    ")\n",
    "drinking_df = drinking_df_raw.rename(\n",
    "    columns={\n",
    "        \"Have you consumed alcohol tonight?\": \"Alcohol\", \n",
    "        \"Where are you going?\": \"Destination\",\n",
    "        \"What is your gender identity?\": \"Gender\",\n",
    "        \"If the P2P didn\\'t exist, how would you be traveling to your destination tonight?\": \"AlternativeTransport\",\n",
    "    }\n",
    ")"
   ]
  },
  {
   "cell_type": "markdown",
   "metadata": {},
   "source": [
    "## Data examinations"
   ]
  },
  {
   "cell_type": "markdown",
   "metadata": {},
   "source": [
    "### How many drinked?"
   ]
  },
  {
   "cell_type": "code",
   "execution_count": null,
   "metadata": {},
   "outputs": [
    {
     "data": {
      "text/plain": [
       "Alcohol\n",
       "No                      90\n",
       "Yes                     42\n",
       "Prefer not to answer    11\n",
       "Name: count, dtype: int64"
      ]
     },
     "execution_count": 73,
     "metadata": {},
     "output_type": "execute_result"
    }
   ],
   "source": [
    "drinking_summary = drinking_df['Alcohol'].value_counts()\n",
    "drinking_summary"
   ]
  },
  {
   "cell_type": "markdown",
   "metadata": {},
   "source": [
    "### What are their alternative way of transportation"
   ]
  },
  {
   "cell_type": "code",
   "execution_count": 62,
   "metadata": {},
   "outputs": [
    {
     "data": {
      "text/plain": [
       "AlternativeTransport\n",
       "Walk                          103\n",
       "Uber/Lyft/Other Ride Share     16\n",
       "Bike                            4\n",
       "Prefer not to answer            4\n",
       "Not go out                      3\n",
       "other                           3\n",
       "Car                             2\n",
       "Name: count, dtype: int64"
      ]
     },
     "execution_count": 62,
     "metadata": {},
     "output_type": "execute_result"
    }
   ],
   "source": [
    "drinking_df[\"AlternativeTransport\"].value_counts()"
   ]
  },
  {
   "cell_type": "markdown",
   "metadata": {},
   "source": [
    "### Gender"
   ]
  },
  {
   "cell_type": "code",
   "execution_count": 68,
   "metadata": {},
   "outputs": [
    {
     "data": {
      "text/plain": [
       "Gender\n",
       "Cis-Female              80\n",
       "Cis-Male                38\n",
       "Transgender              5\n",
       "Prefer not to answer     4\n",
       "other                    2\n",
       "Name: count, dtype: int64"
      ]
     },
     "execution_count": 68,
     "metadata": {},
     "output_type": "execute_result"
    }
   ],
   "source": [
    "drinking_df.Gender.value_counts()  # Fun alternative way of using it:)"
   ]
  },
  {
   "cell_type": "markdown",
   "metadata": {},
   "source": [
    "### Where are they going?"
   ]
  },
  {
   "cell_type": "code",
   "execution_count": 69,
   "metadata": {},
   "outputs": [
    {
     "data": {
      "text/plain": [
       "Destination\n",
       "Dorm/Back home          56\n",
       "other                   47\n",
       "Frat                    18\n",
       "House Party              9\n",
       "Prefer not to answer     6\n",
       "Work                     1\n",
       "Name: count, dtype: int64"
      ]
     },
     "execution_count": 69,
     "metadata": {},
     "output_type": "execute_result"
    }
   ],
   "source": [
    "drinking_df[\"Destination\"].value_counts()"
   ]
  },
  {
   "cell_type": "markdown",
   "metadata": {},
   "source": [
    "### (Now this need some work!) How much have you drank?"
   ]
  },
  {
   "cell_type": "code",
   "execution_count": null,
   "metadata": {},
   "outputs": [
    {
     "data": {
      "text/plain": [
       "If yes, how much have you had?\n",
       "1 shot                                                                2\n",
       "3 drinks                                                              2\n",
       "1 drink                                                               2\n",
       "2 drinks                                                              2\n",
       "0                                                                     1\n",
       "4 sips                                                                1\n",
       "A beer                                                                1\n",
       "14 beers                                                              1\n",
       "Like 7 drinks and a zyn👍😐                                             1\n",
       "1 million cocks                                                       1\n",
       "1 surge                                                               1\n",
       "Three sips                                                            1\n",
       "2 shots                                                               1\n",
       "3 drinks at 5% alc each                                               1\n",
       "5 drinks                                                              1\n",
       "Seltezer and shot of rum 🤪🤪                                           1\n",
       "2 margaritas                                                          1\n",
       "A few shots                                                           1\n",
       "4                                                                     1\n",
       "2 beers                                                               1\n",
       "I have had maybe 9 kegs. Kegs are worth 175 dollars worth of beer.    1\n",
       "Half a 4 loko                                                         1\n",
       "One and a half shots                                                  1\n",
       "3 tweas                                                               1\n",
       "12 shot                                                               1\n",
       "3 shots                                                               1\n",
       "Two drinks                                                            1\n",
       "1                                                                     1\n",
       "6                                                                     1\n",
       "4 shots, 2 shotguns                                                   1\n",
       "A bottle of wine                                                      1\n",
       "10000 beers                                                           1\n",
       "10 gallons                                                            1\n",
       "1 shot                                                                1\n",
       "2 shots                                                               1\n",
       "7.5                                                                   1\n",
       "Name: count, dtype: int64"
      ]
     },
     "execution_count": 77,
     "metadata": {},
     "output_type": "execute_result"
    }
   ],
   "source": [
    "drinking_df[\"If yes, how much have you had?\"].value_counts()"
   ]
  },
  {
   "cell_type": "markdown",
   "metadata": {},
   "source": [
    "Manual conversion, nothing better :("
   ]
  }
 ],
 "metadata": {
  "kernelspec": {
   "display_name": ".venv",
   "language": "python",
   "name": "python3"
  },
  "language_info": {
   "codemirror_mode": {
    "name": "ipython",
    "version": 3
   },
   "file_extension": ".py",
   "mimetype": "text/x-python",
   "name": "python",
   "nbconvert_exporter": "python",
   "pygments_lexer": "ipython3",
   "version": "3.12.2"
  }
 },
 "nbformat": 4,
 "nbformat_minor": 2
}
